{
 "cells": [
  {
   "cell_type": "markdown",
   "metadata": {},
   "source": [
    "# All State CSV\n"
   ]
  },
  {
   "cell_type": "markdown",
   "metadata": {},
   "source": [
    "#### Integrantes:\n",
    "Luis Angel Tortola, Josselinn Ambrocio, Jimena Aldana, Katherinne Milian, Marcos Cardona, Maria Jose Villatoro"
   ]
  },
  {
   "cell_type": "markdown",
   "metadata": {},
   "source": [
    "## Descripción\n",
    "\n",
    "El archivo con el que se realizó el proyecto cuenta con los datos tomados en una compañía de ventas de seguros. Los datos fueron recolectados en las sucursales de todo el país (EEUU) y en durante el período de una semana (Lu - Do). \n",
    "\n",
    "\n",
    "El objetivo del proyecto fue contestar una serie de preguntas planteadas en conjunto por el curso de Data Science. Las 10 preguntas a contestar son las siguientes:\n",
    "\n",
    "\n",
    "1. ¿Qué características tienen los grupos a los que se les cotiza los seguros más baratos?\n",
    "2. ¿Qué tan probable es que se compre un seguro después de la k-ésima cotización?\n",
    "3. Basados en la edad del más joven. ¿Que grupo tiene mayor probabilidad de comprar un seguro?\n",
    "4. ¿Que edad promedio tienen las personas dueñas de carros vieos y carros nuevos?\n",
    "5. ¿Probabilidad de que alguien de edad k compre un seguro?\n",
    "6. ¿Que estado, en promedio, necesita menos cotizaciones?\n",
    "7. ¿Cuántas cotizaciones, previo la compra, realizan los consumidores del estado de Florida?\n",
    "8. ¿En qué tiempo prudente se realizan las cotizaciones?\n",
    "9. ¿Del total de carros que porcentaje tiene menos de k años?\n",
    "10. ¿Que edad necesita menos cotizaciones para comprar un seguro?\n",
    "\n",
    "\n",
    "Una vez contestadas las preguntas, el producto final ha sido una infografía realizada en base a las respuestas obtenidas del análisis de datos.\n"
   ]
  },
  {
   "cell_type": "markdown",
   "metadata": {},
   "source": [
    "## Análisis de Datos \n",
    "\n",
    "En esta sección se visualizan los comandos utilizados para llegar a cada pregunta en específico.\n",
    "\n",
    "\n",
    "\n",
    "\n",
    "\n",
    "Los errores aparecieron al ingresar el código por partes, adejunto en el repositorio se encontrará el archivo de .py original utilizado. Se programó en el ambiente de Spyder ejecutando grupos de comando, por lo cual si se desee ejecutar todo el programa puede que no corra efectivamente."
   ]
  },
  {
   "cell_type": "markdown",
   "metadata": {},
   "source": [
    "**¿Qué características tienen los grupos a los que se les cotiza los seguros más baratos?**"
   ]
  },
  {
   "cell_type": "code",
   "execution_count": 7,
   "metadata": {
    "collapsed": false,
    "scrolled": true
   },
   "outputs": [
    {
     "ename": "ImportError",
     "evalue": "C extension: hashtable not built. If you want to import pandas from the source directory, you may need to run 'python setup.py build_ext --inplace' to build the C extensions first.",
     "output_type": "error",
     "traceback": [
      "\u001b[0;31m---------------------------------------------------------------------------\u001b[0m",
      "\u001b[0;31mImportError\u001b[0m                               Traceback (most recent call last)",
      "\u001b[0;32m<ipython-input-7-ca5a7fdf83f5>\u001b[0m in \u001b[0;36m<module>\u001b[0;34m()\u001b[0m\n\u001b[0;32m----> 1\u001b[0;31m \u001b[0;32mimport\u001b[0m \u001b[0mpandas\u001b[0m \u001b[0;32mas\u001b[0m \u001b[0mpd\u001b[0m\u001b[0;34m\u001b[0m\u001b[0m\n\u001b[0m\u001b[1;32m      2\u001b[0m \u001b[0;32mimport\u001b[0m \u001b[0mnumpy\u001b[0m \u001b[0;32mas\u001b[0m \u001b[0mnp\u001b[0m\u001b[0;34m\u001b[0m\u001b[0m\n\u001b[1;32m      3\u001b[0m \u001b[0;32mfrom\u001b[0m \u001b[0m__future__\u001b[0m \u001b[0;32mimport\u001b[0m \u001b[0mdivision\u001b[0m\u001b[0;34m\u001b[0m\u001b[0m\n\u001b[1;32m      4\u001b[0m \u001b[0;32mimport\u001b[0m \u001b[0mmatplotlib\u001b[0m\u001b[0;34m.\u001b[0m\u001b[0mpyplot\u001b[0m \u001b[0;32mas\u001b[0m \u001b[0mplt\u001b[0m\u001b[0;34m\u001b[0m\u001b[0m\n\u001b[1;32m      5\u001b[0m \u001b[0;32mimport\u001b[0m \u001b[0mseaborn\u001b[0m \u001b[0;32mas\u001b[0m \u001b[0msns\u001b[0m\u001b[0;34m\u001b[0m\u001b[0m\n",
      "\u001b[0;32m//anaconda/lib/python2.7/site-packages/pandas/__init__.py\u001b[0m in \u001b[0;36m<module>\u001b[0;34m()\u001b[0m\n\u001b[1;32m     29\u001b[0m                       \u001b[0;34m\"pandas from the source directory, you may need to run \"\u001b[0m\u001b[0;34m\u001b[0m\u001b[0m\n\u001b[1;32m     30\u001b[0m                       \u001b[0;34m\"'python setup.py build_ext --inplace' to build the C \"\u001b[0m\u001b[0;34m\u001b[0m\u001b[0m\n\u001b[0;32m---> 31\u001b[0;31m                       \"extensions first.\".format(module))\n\u001b[0m\u001b[1;32m     32\u001b[0m \u001b[0;34m\u001b[0m\u001b[0m\n\u001b[1;32m     33\u001b[0m \u001b[0;32mfrom\u001b[0m \u001b[0mdatetime\u001b[0m \u001b[0;32mimport\u001b[0m \u001b[0mdatetime\u001b[0m\u001b[0;34m\u001b[0m\u001b[0m\n",
      "\u001b[0;31mImportError\u001b[0m: C extension: hashtable not built. If you want to import pandas from the source directory, you may need to run 'python setup.py build_ext --inplace' to build the C extensions first."
     ]
    }
   ],
   "source": [
    "import pandas as pd\n",
    "import numpy as np\n",
    "from __future__ import division\n",
    "import matplotlib.pyplot as plt\n",
    "import seaborn as sns\n",
    "csv = pd.read_csv('allstate.csv')\n",
    "\n",
    "\n",
    "# se escogio el valor 605 porque es el primer cuartil.\n",
    "q = csv[(csv.cost<605)]\n",
    "q.state.mode()\n",
    "# Estado que más se repite = Florida\n",
    "q.car_value.mode()\n",
    "# El value que más se repite en los carros asegurados por debajo de  la media es E (menor valor)\n",
    "q.risk_factor.mode()\n",
    "#El factor de riesgo que más se repite es 1 (el menor)\n",
    "sns.distplot(q.age_oldest)\n",
    "sns.distplot(csv.age_oldest)\n",
    "q.age_oldest.describe()\n",
    "#La edad que más se repite en los seguros más baratos  por mucho es 75 años.¿Es relevante?\n",
    "menor = q[(q.age_oldest<75)]\n",
    "print menor\n",
    "sns.distplot(menor.age_oldest)\n",
    "menor.age_oldest.mode()\n",
    "# De igual manera se repite que las personas mayores son más baratas de asegurar.\n",
    "sns.distplot(q.group_size)\n",
    "q.group_size.describe()\n",
    "#comparar con toda la base de datos para ver si afecta el grupo\n",
    "df1 =csv[(csv.group_size > 1)]\n",
    "df1.cost.describe()\n",
    "sns.distplot(df1.cost)\n",
    "df2 =csv[(csv.group_size > 2)]\n",
    "df2.cost.describe()\n",
    "sns.distplot(df2.cost)\n",
    "#El tamaño del grupo no afecta signigicativamente el costo\n",
    "q.car_age.describe()\n",
    "q.car_age.mode()\n",
    "sns.distplot(q.car_age)\n",
    "sns.distplot(csv.car_age)\n",
    "q.homeowner.describe()\n",
    "q.homeowner.mode()\n",
    "#los carros de las personas que le cotizan con menos precio están entre 8 y 12 años son dueños de casas y la mayoría vive en Florida.    "
   ]
  },
  {
   "cell_type": "markdown",
   "metadata": {},
   "source": [
    "**¿Qué tan probable es que se compre un seguro después de la k-ésima cotización?**"
   ]
  },
  {
   "cell_type": "code",
   "execution_count": 16,
   "metadata": {
    "collapsed": false
   },
   "outputs": [
    {
     "ename": "SyntaxError",
     "evalue": "invalid syntax (<ipython-input-16-ee46541e09a3>, line 7)",
     "output_type": "error",
     "traceback": [
      "\u001b[0;36m  File \u001b[0;32m\"<ipython-input-16-ee46541e09a3>\"\u001b[0;36m, line \u001b[0;32m7\u001b[0m\n\u001b[0;31m    ​\u001b[0m\n\u001b[0m    ^\u001b[0m\n\u001b[0;31mSyntaxError\u001b[0m\u001b[0;31m:\u001b[0m invalid syntax\n"
     ]
    }
   ],
   "source": [
    "\n",
    "import pandas as pd\n",
    "import numpy as np\n",
    "from __future__ import division\n",
    "import matplotlib.pyplot as plt\n",
    "import seaborn as sns\n",
    "​\n",
    "​\n",
    "csv = pd.read_csv('allstate.csv')\n",
    "n = csv.shopping_pt[csv.shopping_pt == 5].count()\n",
    "d = csv.shopping_pt[csv.shopping_pt == 1].count()\n",
    "    \n",
    "x = 100 - ((n/d) * 100)\n",
    "    \n",
    "y = \"La probabilidad de compra en la cotizacion no. 5 o antes es de \" + str(x)\n",
    "    \n",
    "print y"
   ]
  },
  {
   "cell_type": "markdown",
   "metadata": {},
   "source": [
    "**Basados en la edad del más joven. ¿Que grupo tiene mayor probabilidad de comprar un seguro?**"
   ]
  },
  {
   "cell_type": "code",
   "execution_count": 15,
   "metadata": {
    "collapsed": false
   },
   "outputs": [
    {
     "ename": "SyntaxError",
     "evalue": "invalid syntax (<ipython-input-15-69cc3744f15d>, line 6)",
     "output_type": "error",
     "traceback": [
      "\u001b[0;36m  File \u001b[0;32m\"<ipython-input-15-69cc3744f15d>\"\u001b[0;36m, line \u001b[0;32m6\u001b[0m\n\u001b[0;31m    ​csv = pd.read_csv('allstate.csv')\u001b[0m\n\u001b[0m    ^\u001b[0m\n\u001b[0;31mSyntaxError\u001b[0m\u001b[0;31m:\u001b[0m invalid syntax\n"
     ]
    }
   ],
   "source": [
    "import pandas as pd\n",
    "import numpy as np\n",
    "from __future__ import division\n",
    "import matplotlib.pyplot as plt\n",
    "import seaborn as sns\n",
    "​csv = pd.read_csv('allstate.csv')\n",
    "\n",
    "young=csv['age_youngest'].min()\n",
    "youngin=csv[(csv.age_youngest==young)&(csv.record_type==1)]\n",
    "youngin.car_age.mean()\n",
    "youngin.group_size.mean()\n",
    "print(\"basados en la edad del mas joven, carro de \"+str(youngin.car_age.mean())[0:4]+\" años tiene mas probabilidad de comprar un seguro\")\n",
    "print(\"basados en la edad del mas joven, el tamaño del grupo \"+str(youngin.group_size.mean())[0:4]+\" tiene mas probabilidad de comprar un seguro\")\n",
    "​\n",
    "#basados en la edad del mas joven, carro de 9.43 años tiene mas probabilidad de comprar un seguro\n",
    "#basados en la edad del mas joven, el tamaño del grupo 1.95 tiene mas probabilidad de comprar un seguro\n",
    "​"
   ]
  },
  {
   "cell_type": "markdown",
   "metadata": {},
   "source": [
    "**¿Que edad promedio tienen las personas dueñas de carros vieos y carros nuevos?**"
   ]
  },
  {
   "cell_type": "code",
   "execution_count": 14,
   "metadata": {
    "collapsed": false
   },
   "outputs": [
    {
     "ename": "SyntaxError",
     "evalue": "invalid syntax (<ipython-input-14-f93f9157f772>, line 6)",
     "output_type": "error",
     "traceback": [
      "\u001b[0;36m  File \u001b[0;32m\"<ipython-input-14-f93f9157f772>\"\u001b[0;36m, line \u001b[0;32m6\u001b[0m\n\u001b[0;31m    ​csv = pd.read_csv('allstate.csv')\u001b[0m\n\u001b[0m    ^\u001b[0m\n\u001b[0;31mSyntaxError\u001b[0m\u001b[0;31m:\u001b[0m invalid syntax\n"
     ]
    }
   ],
   "source": [
    "import pandas as pd\n",
    "import numpy as np\n",
    "from __future__ import division\n",
    "import matplotlib.pyplot as plt\n",
    "import seaborn as sns\n",
    "​csv = pd.read_csv('allstate.csv')\n",
    "\n",
    "edad = csv[['car_age','age_oldest']]  \n",
    "e1 = edad[edad.car_age == edad.car_age.max()] \n",
    "edades = e1.age_oldest.mean()\n",
    "print edades \n",
    "edad = csv[['car_age','age_youngest']]  \n",
    "e1 = edad[edad.car_age == edad.car_age.max()] \n",
    "edades = e1.age_youngest.mean()\n",
    "print edades \n",
    "​\n",
    "edad = csv[['car_age','age_oldest']]  \n",
    "e1 = edad[edad.car_age == edad.car_age.min()] \n",
    "edades= e1.age_oldest.mean()\n",
    "print edades \n",
    "    \n",
    "edad = csv[['car_age','age_youngest']]  \n",
    "e1 = edad[edad.car_age == edad.car_age.min()] \n",
    "edades = e1.age_youngest.mean()\n",
    "print edades\n",
    "​\n",
    "​\n",
    "#Promedio de edad que tienen carros nuevos es de 38.66\n",
    "#Promedio de edad que tinen carros viejos es de 64"
   ]
  },
  {
   "cell_type": "markdown",
   "metadata": {},
   "source": [
    "**¿Probabilidad de que alguien de edad k compre un seguro?**"
   ]
  },
  {
   "cell_type": "code",
   "execution_count": 13,
   "metadata": {
    "collapsed": false
   },
   "outputs": [
    {
     "ename": "SyntaxError",
     "evalue": "invalid syntax (<ipython-input-13-f2b8290977df>, line 6)",
     "output_type": "error",
     "traceback": [
      "\u001b[0;36m  File \u001b[0;32m\"<ipython-input-13-f2b8290977df>\"\u001b[0;36m, line \u001b[0;32m6\u001b[0m\n\u001b[0;31m    ​csv = pd.read_csv('allstate.csv')\u001b[0m\n\u001b[0m    ^\u001b[0m\n\u001b[0;31mSyntaxError\u001b[0m\u001b[0;31m:\u001b[0m invalid syntax\n"
     ]
    }
   ],
   "source": [
    "import pandas as pd\n",
    "import numpy as np\n",
    "from __future__ import division\n",
    "import matplotlib.pyplot as plt\n",
    "import seaborn as sns\n",
    "​csv = pd.read_csv('allstate.csv')\n",
    "\n",
    "edad=35\n",
    "info=csv[csv['age_oldest']==edad]\n",
    "totales=sum(csv['record_type']==1)\n",
    "compra=sum(info['record_type']==1)\n",
    "probabilidad=((compra/1.0)/(totales/1.0))*100\n",
    "df=csv[csv['age_youngest']==edad]\n",
    "compra2=sum(df['record_type']==1)\n",
    "probabilidad2=((compra2/1.0)/(totales/1.0))*100\n",
    "final=probabilidad+probabilidad2\n",
    "print(\"probabilidad de que alguien tenga  \"+ str(edad) +\" de años y compre un seguro es de \"+ str(final)[0:4] + \"%\")\n",
    "​\n",
    "#probabilidad de que alguien de edad 35 años compre un seguro es de 3.27%\n"
   ]
  },
  {
   "cell_type": "markdown",
   "metadata": {},
   "source": [
    "**¿Que estado, en promedio, necesita menos cotizaciones?**"
   ]
  },
  {
   "cell_type": "code",
   "execution_count": 12,
   "metadata": {
    "collapsed": false
   },
   "outputs": [
    {
     "ename": "SyntaxError",
     "evalue": "invalid syntax (<ipython-input-12-df6433e82859>, line 6)",
     "output_type": "error",
     "traceback": [
      "\u001b[0;36m  File \u001b[0;32m\"<ipython-input-12-df6433e82859>\"\u001b[0;36m, line \u001b[0;32m6\u001b[0m\n\u001b[0;31m    ​csv = pd.read_csv('allstate.csv')\u001b[0m\n\u001b[0m    ^\u001b[0m\n\u001b[0;31mSyntaxError\u001b[0m\u001b[0;31m:\u001b[0m invalid syntax\n"
     ]
    }
   ],
   "source": [
    "import pandas as pd\n",
    "import numpy as np\n",
    "from __future__ import division\n",
    "import matplotlib.pyplot as plt\n",
    "import seaborn as sns\n",
    "​csv = pd.read_csv('allstate.csv')\n",
    "\n",
    "bystate=csv[csv.record_type==1].groupby(\"state\")\n",
    "bystate.shopping_pt.mean().min()\n",
    "​\n",
    "#South Dakota con 6.1951219512195124\n"
   ]
  },
  {
   "cell_type": "markdown",
   "metadata": {},
   "source": [
    "**¿Cuántas cotizaciones, previo la compra, realizan los consumidores del estado de Florida?**"
   ]
  },
  {
   "cell_type": "code",
   "execution_count": 11,
   "metadata": {
    "collapsed": false
   },
   "outputs": [
    {
     "ename": "SyntaxError",
     "evalue": "invalid syntax (<ipython-input-11-a0d46fc062ba>, line 6)",
     "output_type": "error",
     "traceback": [
      "\u001b[0;36m  File \u001b[0;32m\"<ipython-input-11-a0d46fc062ba>\"\u001b[0;36m, line \u001b[0;32m6\u001b[0m\n\u001b[0;31m    ​csv = pd.read_csv('allstate.csv')\u001b[0m\n\u001b[0m    ^\u001b[0m\n\u001b[0;31mSyntaxError\u001b[0m\u001b[0;31m:\u001b[0m invalid syntax\n"
     ]
    }
   ],
   "source": [
    "import pandas as pd\n",
    "import numpy as np\n",
    "from __future__ import division\n",
    "import matplotlib.pyplot as plt\n",
    "import seaborn as sns\n",
    "​csv = pd.read_csv('allstate.csv')\n",
    "\n",
    "bystate=csv[csv.record_type==1].groupby(\"state\")\n",
    "bystate.shopping_pt.mean()\n",
    "# 7.277439//\n",
    "​\n",
    "csv[csv.record_type==1].sum()\n",
    "# 97009"
   ]
  },
  {
   "cell_type": "markdown",
   "metadata": {},
   "source": [
    "**¿En qué tiempo prudente se realizan las cotizaciones?**"
   ]
  },
  {
   "cell_type": "code",
   "execution_count": 10,
   "metadata": {
    "collapsed": false
   },
   "outputs": [
    {
     "ename": "SyntaxError",
     "evalue": "invalid syntax (<ipython-input-10-7a88a7bd0f04>, line 6)",
     "output_type": "error",
     "traceback": [
      "\u001b[0;36m  File \u001b[0;32m\"<ipython-input-10-7a88a7bd0f04>\"\u001b[0;36m, line \u001b[0;32m6\u001b[0m\n\u001b[0;31m    ​csv = pd.read_csv('allstate.csv')\u001b[0m\n\u001b[0m    ^\u001b[0m\n\u001b[0;31mSyntaxError\u001b[0m\u001b[0;31m:\u001b[0m invalid syntax\n"
     ]
    }
   ],
   "source": [
    "import pandas as pd\n",
    "import numpy as np\n",
    "from __future__ import division\n",
    "import matplotlib.pyplot as plt\n",
    "import seaborn as sns\n",
    "​csv = pd.read_csv('allstate.csv')\n",
    "\n",
    "tmp = csv[(csv.record_type == 1)]\n",
    "tmp.count()\n",
    "tmp.time.mode()\n",
    "​\n",
    "#14:35"
   ]
  },
  {
   "cell_type": "markdown",
   "metadata": {},
   "source": [
    "**¿Del total de carros que porcentaje tiene menos de k años?**"
   ]
  },
  {
   "cell_type": "code",
   "execution_count": 9,
   "metadata": {
    "collapsed": false
   },
   "outputs": [
    {
     "ename": "SyntaxError",
     "evalue": "invalid syntax (<ipython-input-9-87848fef87e5>, line 6)",
     "output_type": "error",
     "traceback": [
      "\u001b[0;36m  File \u001b[0;32m\"<ipython-input-9-87848fef87e5>\"\u001b[0;36m, line \u001b[0;32m6\u001b[0m\n\u001b[0;31m    ​csv = pd.read_csv('allstate.csv')\u001b[0m\n\u001b[0m    ^\u001b[0m\n\u001b[0;31mSyntaxError\u001b[0m\u001b[0;31m:\u001b[0m invalid syntax\n"
     ]
    }
   ],
   "source": [
    "import pandas as pd\n",
    "import numpy as np\n",
    "from __future__ import division\n",
    "import matplotlib.pyplot as plt\n",
    "import seaborn as sns\n",
    "​csv = pd.read_csv('allstate.csv')\n",
    "\n",
    "csv.car_age.describe()\n",
    "​\n",
    "​\n",
    "​\n",
    "for i in range (0, 86):\n",
    "    \n",
    "    n = csv.car_age[csv.car_age == i].count()\n",
    "    d = csv.car_age.count()\n",
    "    \n",
    "    x = (n/d) * 100 \n",
    "    \n",
    "    y = \"El porcentaje de carros con edad  \" + str(i) + \" es de \" + str(x)\n",
    "    \n",
    "    print y\n",
    "​\n",
    "​\n",
    "​\n",
    "​\n",
    "    n = csv.car_age[csv.car_age == 1].count() + csv.car_age[csv.car_age == 2].count() + csv.car_age[csv.car_age == 3].count() + csv.car_age[csv.car_age == 4].count()\n",
    "    d = csv.car_age.count()\n",
    "    \n",
    "    x = (n/d) * 100\n",
    "    \n",
    "    print \"El porcentaje de carro con menos de 5 años es de \" + str(x) + \"%\"\n",
    "    \n",
    "    \n",
    "    \n",
    "    n = csv.car_age[csv.car_age < 5].count()\n",
    "    d = csv.car_age.count()\n",
    "    \n",
    "    x = (n/d) * 100\n",
    "    \n",
    "    print \"El porcentaje de carro con menos de 5 años es de \" + str(x) + \"%\"\n"
   ]
  },
  {
   "cell_type": "markdown",
   "metadata": {},
   "source": [
    "**¿Que edad necesita menos cotizaciones para comprar un seguro?**"
   ]
  },
  {
   "cell_type": "code",
   "execution_count": 8,
   "metadata": {
    "collapsed": false
   },
   "outputs": [
    {
     "ename": "SyntaxError",
     "evalue": "invalid syntax (<ipython-input-8-f0d7b75566fd>, line 6)",
     "output_type": "error",
     "traceback": [
      "\u001b[0;36m  File \u001b[0;32m\"<ipython-input-8-f0d7b75566fd>\"\u001b[0;36m, line \u001b[0;32m6\u001b[0m\n\u001b[0;31m    ​csv = pd.read_csv('allstate.csv')\u001b[0m\n\u001b[0m    ^\u001b[0m\n\u001b[0;31mSyntaxError\u001b[0m\u001b[0;31m:\u001b[0m invalid syntax\n"
     ]
    }
   ],
   "source": [
    "import pandas as pd\n",
    "import numpy as np\n",
    "from __future__ import division\n",
    "import matplotlib.pyplot as plt\n",
    "import seaborn as sns\n",
    "​csv = pd.read_csv('allstate.csv')\n",
    "\n",
    "datos = csv[['record_type','shopping_pt','age_youngest']]\n",
    "cotizacion = datos[datos.record_type == 1]\n",
    "pequenacot = min(cotizacion.shopping_pt)\n",
    "cantidad = cotizacion[cotizacion.shopping_pt == pequenacot]\n",
    "m = cantidad.mode()\n",
    "print 'Las personas que menos cotizaciones necsitan para comprar tienen edad de: ' + str(int(m.age_youngest))\n",
    "# 75 años"
   ]
  },
  {
   "cell_type": "markdown",
   "metadata": {},
   "source": [
    "## Infografía\n",
    "\n",
    "Una vez contestadas las preguntas, se utilizó la [herramienta online](https://www.canva.com/) llamada Canva para la elaboración de la infografía final. <br >\n",
    "La respectiva infografía está adjunta en el repositorio."
   ]
  }
 ],
 "metadata": {
  "kernelspec": {
   "display_name": "Python 2",
   "language": "python",
   "name": "python2"
  },
  "language_info": {
   "codemirror_mode": {
    "name": "ipython",
    "version": 2
   },
   "file_extension": ".py",
   "mimetype": "text/x-python",
   "name": "python",
   "nbconvert_exporter": "python",
   "pygments_lexer": "ipython2",
   "version": "2.7.11"
  }
 },
 "nbformat": 4,
 "nbformat_minor": 0
}
