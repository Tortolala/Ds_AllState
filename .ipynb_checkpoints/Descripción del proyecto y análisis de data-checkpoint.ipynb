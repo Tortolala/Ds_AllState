{
 "cells": [
  {
   "cell_type": "markdown",
   "metadata": {},
   "source": [
    "# All State CSV\n"
   ]
  },
  {
   "cell_type": "markdown",
   "metadata": {},
   "source": [
    "#### Integrantes:\n",
    "Luis Angel Tortola, Josselinn Ambrocio, Jimena Aldana, Katherinne Milian, Marcos Cardona, Maria Jose Villatoro"
   ]
  },
  {
   "cell_type": "markdown",
   "metadata": {},
   "source": [
    "## Descripción\n",
    "\n",
    "El archivo con el que se realizó el proyecto cuenta con los datos tomados en una compañía de ventas de seguros. Los datos fueron recolectados en las sucursales de todo el país (EEUU) y en durante el período de una semana (Lu - Do). \n",
    "\n",
    "\n",
    "El objetivo del proyecto fue contestar una serie de preguntas planteadas en conjunto por el curso de Data Science. Las 10 preguntas a contestar son las siguientes:\n",
    "\n",
    "\n",
    "1. ¿Qué características tienen los grupos a los que se les cotiza los seguros más baratos?\n",
    "2. ¿Qué tan probable es que se compre un seguro después de la k-ésima cotización?\n",
    "3. Basados en la edad del más joven. ¿Que grupo tiene mayor probabilidad de comprar un seguro?\n",
    "4. ¿Que edad promedio tienen las personas dueñas de carros vieos y carros nuevos?\n",
    "5. ¿Probabilidad de que alguien de edad k compre un seguro?\n",
    "6. ¿Que estado, en promedio, necesita menos cotizaciones?\n",
    "7. ¿Cuántas cotizaciones, previo la compra, realizan los consumidores del estado de Florida?\n",
    "8. ¿En qué tiempo prudente se realizan las cotizaciones?\n",
    "9. ¿Del total de carros que porcentaje tiene menos de k años?\n",
    "10. ¿Que edad necesita menos cotizaciones para comprar un seguro?\n",
    "\n",
    "\n",
    "Una vez contestadas las preguntas, el producto final ha sido una infografía realizada en base a las respuestas obtenidas del análisis de datos.\n"
   ]
  },
  {
   "cell_type": "markdown",
   "metadata": {},
   "source": [
    "## Análisis de Datos \n",
    "\n",
    "En esta sección se visualizan los comandos utilizados para llegar a cada pregunta en específico.\n",
    "\n",
    "\n",
    "\n",
    "\n",
    "\n",
    "Los errores aparecieron al ingresar el código por partes, adejunto en el repositorio se encontrará el archivo de .py original utilizado. Se programó en el ambiente de Spyder ejecutando grupos de comando, por lo cual si se desee ejecutar todo el programa puede que no corra efectivamente."
   ]
  },
  {
   "cell_type": "markdown",
   "metadata": {},
   "source": [
    "**¿Qué características tienen los grupos a los que se les cotiza los seguros más baratos?**"
   ]
  },
  {
   "cell_type": "code",
   "execution_count": 7,
   "metadata": {
    "collapsed": false,
    "scrolled": true
   },
   "outputs": [
    {
     "ename": "ImportError",
     "evalue": "C extension: hashtable not built. If you want to import pandas from the source directory, you may need to run 'python setup.py build_ext --inplace' to build the C extensions first.",
     "output_type": "error",
     "traceback": [
      "\u001b[0;31m---------------------------------------------------------------------------\u001b[0m",
      "\u001b[0;31mImportError\u001b[0m                               Traceback (most recent call last)",
      "\u001b[0;32m<ipython-input-7-ca5a7fdf83f5>\u001b[0m in \u001b[0;36m<module>\u001b[0;34m()\u001b[0m\n\u001b[0;32m----> 1\u001b[0;31m \u001b[0;32mimport\u001b[0m \u001b[0mpandas\u001b[0m \u001b[0;32mas\u001b[0m \u001b[0mpd\u001b[0m\u001b[0;34m\u001b[0m\u001b[0m\n\u001b[0m\u001b[1;32m      2\u001b[0m \u001b[0;32mimport\u001b[0m \u001b[0mnumpy\u001b[0m \u001b[0;32mas\u001b[0m \u001b[0mnp\u001b[0m\u001b[0;34m\u001b[0m\u001b[0m\n\u001b[1;32m      3\u001b[0m \u001b[0;32mfrom\u001b[0m \u001b[0m__future__\u001b[0m \u001b[0;32mimport\u001b[0m \u001b[0mdivision\u001b[0m\u001b[0;34m\u001b[0m\u001b[0m\n\u001b[1;32m      4\u001b[0m \u001b[0;32mimport\u001b[0m \u001b[0mmatplotlib\u001b[0m\u001b[0;34m.\u001b[0m\u001b[0mpyplot\u001b[0m \u001b[0;32mas\u001b[0m \u001b[0mplt\u001b[0m\u001b[0;34m\u001b[0m\u001b[0m\n\u001b[1;32m      5\u001b[0m \u001b[0;32mimport\u001b[0m \u001b[0mseaborn\u001b[0m \u001b[0;32mas\u001b[0m \u001b[0msns\u001b[0m\u001b[0;34m\u001b[0m\u001b[0m\n",
      "\u001b[0;32m//anaconda/lib/python2.7/site-packages/pandas/__init__.py\u001b[0m in \u001b[0;36m<module>\u001b[0;34m()\u001b[0m\n\u001b[1;32m     29\u001b[0m                       \u001b[0;34m\"pandas from the source directory, you may need to run \"\u001b[0m\u001b[0;34m\u001b[0m\u001b[0m\n\u001b[1;32m     30\u001b[0m                       \u001b[0;34m\"'python setup.py build_ext --inplace' to build the C \"\u001b[0m\u001b[0;34m\u001b[0m\u001b[0m\n\u001b[0;32m---> 31\u001b[0;31m                       \"extensions first.\".format(module))\n\u001b[0m\u001b[1;32m     32\u001b[0m \u001b[0;34m\u001b[0m\u001b[0m\n\u001b[1;32m     33\u001b[0m \u001b[0;32mfrom\u001b[0m \u001b[0mdatetime\u001b[0m \u001b[0;32mimport\u001b[0m \u001b[0mdatetime\u001b[0m\u001b[0;34m\u001b[0m\u001b[0m\n",
      "\u001b[0;31mImportError\u001b[0m: C extension: hashtable not built. If you want to import pandas from the source directory, you may need to run 'python setup.py build_ext --inplace' to build the C extensions first."
     ]
    }
   ],
   "source": [
    "import pandas as pd\n",
    "import numpy as np\n",
    "from __future__ import division\n",
    "import matplotlib.pyplot as plt\n",
    "import seaborn as sns\n",
    "csv = pd.read_csv('allstate.csv')\n",
    "\n",
    "\n",
    "# se escogio el valor 605 porque es el primer cuartil.\n",
    "q = csv[(csv.cost<605)]\n",
    "q.state.mode()\n",
    "# Estado que más se repite = Florida\n",
    "q.car_value.mode()\n",
    "# El value que más se repite en los carros asegurados por debajo de  la media es E (menor valor)\n",
    "q.risk_factor.mode()\n",
    "#El factor de riesgo que más se repite es 1 (el menor)\n",
    "sns.distplot(q.age_oldest)\n",
    "sns.distplot(csv.age_oldest)\n",
    "q.age_oldest.describe()\n",
    "#La edad que más se repite en los seguros más baratos  por mucho es 75 años.¿Es relevante?\n",
    "menor = q[(q.age_oldest<75)]\n",
    "print menor\n",
    "sns.distplot(menor.age_oldest)\n",
    "menor.age_oldest.mode()\n",
    "# De igual manera se repite que las personas mayores son más baratas de asegurar.\n",
    "sns.distplot(q.group_size)\n",
    "q.group_size.describe()\n",
    "#comparar con toda la base de datos para ver si afecta el grupo\n",
    "df1 =csv[(csv.group_size > 1)]\n",
    "df1.cost.describe()\n",
    "sns.distplot(df1.cost)\n",
    "df2 =csv[(csv.group_size > 2)]\n",
    "df2.cost.describe()\n",
    "sns.distplot(df2.cost)\n",
    "#El tamaño del grupo no afecta signigicativamente el costo\n",
    "q.car_age.describe()\n",
    "q.car_age.mode()\n",
    "sns.distplot(q.car_age)\n",
    "sns.distplot(csv.car_age)\n",
    "q.homeowner.describe()\n",
    "q.homeowner.mode()\n",
    "#los carros de las personas que le cotizan con menos precio están entre 8 y 12 años son dueños de casas y la mayoría vive en Florida.    "
   ]
  },
  {
   "cell_type": "markdown",
   "metadata": {},
   "source": [
    "**¿Qué tan probable es que se compre un seguro después de la k-ésima cotización?**"
   ]
  },
  {
   "cell_type": "code",
   "execution_count": 1,
   "metadata": {
    "collapsed": false
   },
   "outputs": [
    {
     "ename": "SyntaxError",
     "evalue": "invalid syntax (<ipython-input-1-ee46541e09a3>, line 7)",
     "output_type": "error",
     "traceback": [
      "\u001b[1;36m  File \u001b[1;32m\"<ipython-input-1-ee46541e09a3>\"\u001b[1;36m, line \u001b[1;32m7\u001b[0m\n\u001b[1;33m    ​\u001b[0m\n\u001b[1;37m    ^\u001b[0m\n\u001b[1;31mSyntaxError\u001b[0m\u001b[1;31m:\u001b[0m invalid syntax\n"
     ]
    }
   ],
   "source": [
    "\n",
    "import pandas as pd\n",
    "import numpy as np\n",
    "from __future__ import division\n",
    "import matplotlib.pyplot as plt\n",
    "import seaborn as sns\n",
    "​\n",
    "​\n",
    "csv = pd.read_csv('allstate.csv')\n",
    "n = csv.shopping_pt[csv.shopping_pt == 5].count()\n",
    "d = csv.shopping_pt[csv.shopping_pt == 1].count()\n",
    "    \n",
    "x = 100 - ((n/d) * 100)\n",
    "    \n",
    "y = \"La probabilidad de compra en la cotizacion no. 5 o antes es de \" + str(x)\n",
    "    \n",
    "print y"
   ]
  },
  {
   "cell_type": "markdown",
   "metadata": {},
   "source": [
    "**Basados en la edad del más joven. ¿Que grupo tiene mayor probabilidad de comprar un seguro?**"
   ]
  },
  {
   "cell_type": "code",
   "execution_count": null,
   "metadata": {
    "collapsed": true
   },
   "outputs": [],
   "source": []
  },
  {
   "cell_type": "markdown",
   "metadata": {},
   "source": [
    "**¿Que edad promedio tienen las personas dueñas de carros vieos y carros nuevos?**"
   ]
  },
  {
   "cell_type": "code",
   "execution_count": null,
   "metadata": {
    "collapsed": true
   },
   "outputs": [],
   "source": []
  },
  {
   "cell_type": "markdown",
   "metadata": {},
   "source": [
    "**¿Probabilidad de que alguien de edad k compre un seguro?**"
   ]
  },
  {
   "cell_type": "code",
   "execution_count": null,
   "metadata": {
    "collapsed": true
   },
   "outputs": [],
   "source": []
  },
  {
   "cell_type": "markdown",
   "metadata": {},
   "source": [
    "**¿Que estado, en promedio, necesita menos cotizaciones?**"
   ]
  },
  {
   "cell_type": "code",
   "execution_count": null,
   "metadata": {
    "collapsed": true
   },
   "outputs": [],
   "source": []
  },
  {
   "cell_type": "markdown",
   "metadata": {},
   "source": [
    "**¿Cuántas cotizaciones, previo la compra, realizan los consumidores del estado de Florida?**"
   ]
  },
  {
   "cell_type": "code",
   "execution_count": null,
   "metadata": {
    "collapsed": true
   },
   "outputs": [],
   "source": []
  },
  {
   "cell_type": "markdown",
   "metadata": {},
   "source": [
    "**¿En qué tiempo prudente se realizan las cotizaciones?**"
   ]
  },
  {
   "cell_type": "code",
   "execution_count": null,
   "metadata": {
    "collapsed": true
   },
   "outputs": [],
   "source": []
  },
  {
   "cell_type": "markdown",
   "metadata": {},
   "source": [
    "**¿Del total de carros que porcentaje tiene menos de k años?**"
   ]
  },
  {
   "cell_type": "code",
   "execution_count": null,
   "metadata": {
    "collapsed": true
   },
   "outputs": [],
   "source": []
  },
  {
   "cell_type": "markdown",
   "metadata": {},
   "source": [
    "**¿Que edad necesita menos cotizaciones para comprar un seguro?**"
   ]
  },
  {
   "cell_type": "code",
   "execution_count": null,
   "metadata": {
    "collapsed": true
   },
   "outputs": [],
   "source": []
  },
  {
   "cell_type": "markdown",
   "metadata": {},
   "source": [
    "## Infografía\n",
    "\n",
    "Una vez contestadas las preguntas, se utilizó la [herramienta online](https://www.canva.com/) llamada Canva para la elaboración de la infografía final. <br >\n",
    "La respectiva infografía está adjunta en el repositorio."
   ]
  }
 ],
 "metadata": {
  "kernelspec": {
   "display_name": "Python 2",
   "language": "python",
   "name": "python2"
  },
  "language_info": {
   "codemirror_mode": {
    "name": "ipython",
    "version": 2
   },
   "file_extension": ".py",
   "mimetype": "text/x-python",
   "name": "python",
   "nbconvert_exporter": "python",
   "pygments_lexer": "ipython2",
   "version": "2.7.11"
  }
 },
 "nbformat": 4,
 "nbformat_minor": 0
}
